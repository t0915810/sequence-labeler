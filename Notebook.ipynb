{
 "cells": [
  {
   "cell_type": "markdown",
   "metadata": {},
   "source": [
    "# Zero shot sequence labelling\n",
    "Bidirectional LSTM with attention\n",
    "\n",
    "https://github.com/marekrei/sequence-labeler"
   ]
  },
  {
   "cell_type": "code",
   "execution_count": 26,
   "metadata": {},
   "outputs": [
    {
     "data": {
      "text/plain": [
       "OrderedDict([(3, 'test'), (2, 'test'), (1, 'test')])"
      ]
     },
     "execution_count": 26,
     "metadata": {},
     "output_type": "execute_result"
    }
   ],
   "source": [
    "import collections\n",
    "\n",
    "x = collections.OrderedDict()\n",
    "I = [3,2,1]\n",
    "for i in I:\n",
    "    x[i] = 'test'\n",
    "    \n",
    "x"
   ]
  },
  {
   "cell_type": "code",
   "execution_count": 19,
   "metadata": {},
   "outputs": [
    {
     "name": "stdout",
     "output_type": "stream",
     "text": [
      "3\n",
      "2\n",
      "1\n"
     ]
    }
   ],
   "source": [
    "for s in x:\n",
    "    print(s)"
   ]
  },
  {
   "cell_type": "code",
   "execution_count": 22,
   "metadata": {},
   "outputs": [
    {
     "name": "stdout",
     "output_type": "stream",
     "text": [
      "Initial : Counter()\n",
      "Sequence: Counter({'a': 3, 'b': 2, 'c': 1, 'd': 1})\n",
      "Dict    : Counter({'d': 6, 'a': 4, 'b': 2, 'c': 1})\n"
     ]
    }
   ],
   "source": [
    "c = collections.Counter()\n",
    "print ('Initial :', c)\n",
    "\n",
    "c.update('abcdaab')\n",
    "print ('Sequence:', c)\n",
    "\n",
    "c.update({'a':1, 'd':5})\n",
    "print ('Dict    :', c)"
   ]
  },
  {
   "cell_type": "code",
   "execution_count": 25,
   "metadata": {},
   "outputs": [
    {
     "data": {
      "text/plain": [
       "2"
      ]
     },
     "execution_count": 25,
     "metadata": {},
     "output_type": "execute_result"
    }
   ],
   "source": [
    "a = 1 if 1==2 else 2\n",
    "a"
   ]
  }
 ],
 "metadata": {
  "kernelspec": {
   "display_name": "Python 3",
   "language": "python",
   "name": "python3"
  },
  "language_info": {
   "codemirror_mode": {
    "name": "ipython",
    "version": 3
   },
   "file_extension": ".py",
   "mimetype": "text/x-python",
   "name": "python",
   "nbconvert_exporter": "python",
   "pygments_lexer": "ipython3",
   "version": "3.6.5"
  }
 },
 "nbformat": 4,
 "nbformat_minor": 2
}
